{
 "cells": [
  {
   "cell_type": "markdown",
   "metadata": {},
   "source": [
    "# sin rnn\n",
    "The purpose of this notebook is to attempt to fit an RNN to a sin series."
   ]
  },
  {
   "cell_type": "markdown",
   "metadata": {},
   "source": [
    "## imports"
   ]
  },
  {
   "cell_type": "code",
   "execution_count": 1,
   "metadata": {
    "collapsed": true
   },
   "outputs": [],
   "source": [
    "import numpy as np\n",
    "import tensorflow as tf\n",
    "import matplotlib.pyplot as plt\n",
    "%matplotlib inline\n",
    "import time"
   ]
  },
  {
   "cell_type": "markdown",
   "metadata": {},
   "source": [
    "## data\n",
    "The below class will be able to create a sin series, in addition to batching."
   ]
  },
  {
   "cell_type": "code",
   "execution_count": 2,
   "metadata": {
    "collapsed": true
   },
   "outputs": [],
   "source": [
    "class TimeSeriesData():\n",
    "    def __init__(self, num_points, xmin, xmax):\n",
    "        #data range\n",
    "        self.xmin = xmin\n",
    "        self.xmax = xmax\n",
    "        #data space resolution\n",
    "        self.num_points = num_points\n",
    "        self.resolution = (xmax - xmin) / num_points\n",
    "        #defining the domain and range\n",
    "        self.x_data = np.linspace(start=xmin, stop=xmax, num=num_points)\n",
    "        self.y_true = np.sin(self.x_data)\n",
    "        \n",
    "    def ret_true(self, x_series):\n",
    "        \"\"\"\n",
    "        Returns np.sin(x_series) for ANY range of inputs in x_series. This method\n",
    "        will be used for comparing validity of new data.\n",
    "        \"\"\"\n",
    "        return np.sin(x_series)\n",
    "    \n",
    "    def next_batch(self, batch_size, steps, return_batch_ts=False):\n",
    "        #grab random starting point for each batch\n",
    "        rand_start = np.random.rand(batch_size, 1)\n",
    "        #convert to be on time series\n",
    "        ts_start = rand_start * (self.xmax - self.xmin - steps * self.resolution)\n",
    "        #create batch time series on x axis\n",
    "        batch_ts = ts_start + np.arange(0, steps+1) * self.resolution\n",
    "        #create y data for time series x axis\n",
    "        y_batch = self.ret_true(batch_ts)\n",
    "        #formatting for rnn\n",
    "        if return_batch_ts:\n",
    "            return y_batch[:,:-1].reshape(-1, steps, 1), y_batch[:,1:].reshape(-1, steps, 1), batch_ts\n",
    "        else:\n",
    "            return y_batch[:,:-1].reshape(-1, steps, 1), y_batch[:,1:].reshape(-1, steps, 1)"
   ]
  },
  {
   "cell_type": "code",
   "execution_count": 3,
   "metadata": {
    "collapsed": true
   },
   "outputs": [],
   "source": [
    "ts_data = TimeSeriesData(250, 0, 10)"
   ]
  },
  {
   "cell_type": "code",
   "execution_count": 4,
   "metadata": {},
   "outputs": [
    {
     "data": {
      "text/plain": [
       "[<matplotlib.lines.Line2D at 0x19c796f7908>]"
      ]
     },
     "execution_count": 4,
     "metadata": {},
     "output_type": "execute_result"
    },
    {
     "data": {
      "image/png": "[encoded data removed]",
      "text/plain": [
       "<matplotlib.figure.Figure at 0x19c793110b8>"
      ]
     },
     "metadata": {},
     "output_type": "display_data"
    }
   ],
   "source": [
    "plt.plot(ts_data.x_data, ts_data.y_true)"
   ]
  },
  {
   "cell_type": "markdown",
   "metadata": {},
   "source": [
    "## batching"
   ]
  },
  {
   "cell_type": "code",
   "execution_count": 5,
   "metadata": {
    "collapsed": true
   },
   "outputs": [],
   "source": [
    "num_time_steps = 30"
   ]
  },
  {
   "cell_type": "code",
   "execution_count": 6,
   "metadata": {
    "collapsed": true
   },
   "outputs": [],
   "source": [
    "y1, y2, ts = ts_data.next_batch(1, num_time_steps, return_batch_ts=True)"
   ]
  },
  {
   "cell_type": "code",
   "execution_count": 7,
   "metadata": {},
   "outputs": [
    {
     "data": {
      "text/plain": [
       "(1, 31)"
      ]
     },
     "execution_count": 7,
     "metadata": {},
     "output_type": "execute_result"
    }
   ],
   "source": [
    "ts.shape"
   ]
  },
  {
   "cell_type": "code",
   "execution_count": 8,
   "metadata": {},
   "outputs": [
    {
     "data": {
      "text/plain": [
       "array([[ 6.91479084,  6.95479084,  6.99479084,  7.03479084,  7.07479084,\n",
       "         7.11479084,  7.15479084,  7.19479084,  7.23479084,  7.27479084,\n",
       "         7.31479084,  7.35479084,  7.39479084,  7.43479084,  7.47479084,\n",
       "         7.51479084,  7.55479084,  7.59479084,  7.63479084,  7.67479084,\n",
       "         7.71479084,  7.75479084,  7.79479084,  7.83479084,  7.87479084,\n",
       "         7.91479084,  7.95479084,  7.99479084,  8.03479084,  8.07479084,\n",
       "         8.11479084]])"
      ]
     },
     "execution_count": 8,
     "metadata": {},
     "output_type": "execute_result"
    }
   ],
   "source": [
    "ts"
   ]
  },
  {
   "cell_type": "code",
   "execution_count": 9,
   "metadata": {},
   "outputs": [
    {
     "data": {
      "text/plain": [
       "[<matplotlib.lines.Line2D at 0x19c7a77cef0>]"
      ]
     },
     "execution_count": 9,
     "metadata": {},
     "output_type": "execute_result"
    },
    {
     "data": {
      "image/png": "[encoded data removed]",
      "text/plain": [
       "<matplotlib.figure.Figure at 0x19c7933bac8>"
      ]
     },
     "metadata": {},
     "output_type": "display_data"
    }
   ],
   "source": [
    "plt.plot(ts.flatten()[1:], y2.flatten(), \"o\")"
   ]
  },
  {
   "cell_type": "code",
   "execution_count": 10,
   "metadata": {},
   "outputs": [
    {
     "data": {
      "text/plain": [
       "<matplotlib.legend.Legend at 0x19c7a7faa90>"
      ]
     },
     "execution_count": 10,
     "metadata": {},
     "output_type": "execute_result"
    },
    {
     "data": {
      "image/png": "[encoded data removed]",
      "text/plain": [
       "<matplotlib.figure.Figure at 0x19c7977bf28>"
      ]
     },
     "metadata": {},
     "output_type": "display_data"
    }
   ],
   "source": [
    "plt.plot(ts_data.x_data, ts_data.y_true, label=\"sin(t)\")\n",
    "plt.plot(ts.flatten()[1:], y2.flatten(), \"o\", label=\"batch\")\n",
    "plt.legend()"
   ]
  },
  {
   "cell_type": "markdown",
   "metadata": {},
   "source": [
    "## training data"
   ]
  },
  {
   "cell_type": "code",
   "execution_count": 11,
   "metadata": {},
   "outputs": [
    {
     "data": {
      "text/plain": [
       "array([ 5.        ,  5.04133333,  5.08266667,  5.124     ,  5.16533333,\n",
       "        5.20666667,  5.248     ,  5.28933333,  5.33066667,  5.372     ,\n",
       "        5.41333333,  5.45466667,  5.496     ,  5.53733333,  5.57866667,\n",
       "        5.62      ,  5.66133333,  5.70266667,  5.744     ,  5.78533333,\n",
       "        5.82666667,  5.868     ,  5.90933333,  5.95066667,  5.992     ,\n",
       "        6.03333333,  6.07466667,  6.116     ,  6.15733333,  6.19866667,\n",
       "        6.24      ])"
      ]
     },
     "execution_count": 11,
     "metadata": {},
     "output_type": "execute_result"
    }
   ],
   "source": [
    "train_inst = np.linspace(5, 5 + ts_data.resolution*(num_time_steps + 1), num_time_steps + 1)\n",
    "train_inst"
   ]
  },
  {
   "cell_type": "code",
   "execution_count": 12,
   "metadata": {},
   "outputs": [
    {
     "data": {
      "text/plain": [
       "<matplotlib.legend.Legend at 0x19c7a88d8d0>"
      ]
     },
     "execution_count": 12,
     "metadata": {},
     "output_type": "execute_result"
    },
    {
     "data": {
      "image/png": "[encoded data removed]",
      "text/plain": [
       "<matplotlib.figure.Figure at 0x19c7a832f98>"
      ]
     },
     "metadata": {},
     "output_type": "display_data"
    }
   ],
   "source": [
    "plt.title(\"training instance\")\n",
    "plt.plot(train_inst[:-1], ts_data.ret_true(train_inst[:-1]), \"ko\", markersize=15, alpha=0.5, label=\"instance\")\n",
    "plt.plot(train_inst[1:], ts_data.ret_true(train_inst[1:]), \"o\", markersize=5, alpha=1, label=\"target\", color=\"#ff0066\")\n",
    "plt.legend()"
   ]
  },
  {
   "cell_type": "markdown",
   "metadata": {},
   "source": [
    "## model creation"
   ]
  },
  {
   "cell_type": "code",
   "execution_count": 13,
   "metadata": {
    "collapsed": true
   },
   "outputs": [],
   "source": [
    "tf.reset_default_graph()"
   ]
  },
  {
   "cell_type": "code",
   "execution_count": 14,
   "metadata": {
    "collapsed": true
   },
   "outputs": [],
   "source": [
    "num_inputs = 1\n",
    "num_neurons = 100\n",
    "num_outputs = 1\n",
    "learning_rate = 0.0001\n",
    "epochs = 2000\n",
    "batch_size = 1"
   ]
  },
  {
   "cell_type": "markdown",
   "metadata": {},
   "source": [
    "placeholders"
   ]
  },
  {
   "cell_type": "code",
   "execution_count": 15,
   "metadata": {
    "collapsed": true
   },
   "outputs": [],
   "source": [
    "x = tf.placeholder(tf.float32, [None, num_time_steps, num_inputs])\n",
    "y = tf.placeholder(tf.float32, [None, num_time_steps, num_outputs])"
   ]
  },
  {
   "cell_type": "markdown",
   "metadata": {},
   "source": [
    "rnn cell layer"
   ]
  },
  {
   "cell_type": "code",
   "execution_count": 18,
   "metadata": {
    "collapsed": true
   },
   "outputs": [],
   "source": [
    "cell = tf.contrib.rnn.BasicRNNCell(num_units=num_neurons, activation=tf.nn.relu)\n",
    "#wrap output to get 1 output\n",
    "cell = tf.contrib.rnn.OutputProjectionWrapper(cell=cell, output_size=num_outputs)"
   ]
  },
  {
   "cell_type": "code",
   "execution_count": 19,
   "metadata": {},
   "outputs": [],
   "source": [
    "outputs, states = tf.nn.dynamic_rnn(cell=cell, inputs=x, dtype=tf.float32)"
   ]
  },
  {
   "cell_type": "markdown",
   "metadata": {},
   "source": [
    "loss"
   ]
  },
  {
   "cell_type": "code",
   "execution_count": 20,
   "metadata": {
    "collapsed": true
   },
   "outputs": [],
   "source": [
    "#mse\n",
    "loss = tf.reduce_mean(tf.square(outputs - y))"
   ]
  },
  {
   "cell_type": "markdown",
   "metadata": {},
   "source": [
    "optimizer"
   ]
  },
  {
   "cell_type": "code",
   "execution_count": 21,
   "metadata": {},
   "outputs": [],
   "source": [
    "optimizer = tf.train.AdamOptimizer(learning_rate=learning_rate)\n",
    "train = optimizer.minimize(loss)"
   ]
  },
  {
   "cell_type": "markdown",
   "metadata": {},
   "source": [
    "## session"
   ]
  },
  {
   "cell_type": "code",
   "execution_count": 22,
   "metadata": {
    "collapsed": true
   },
   "outputs": [],
   "source": [
    "init = tf.global_variables_initializer()"
   ]
  },
  {
   "cell_type": "code",
   "execution_count": 23,
   "metadata": {
    "collapsed": true
   },
   "outputs": [],
   "source": [
    "#only need to use this if using gpu\n",
    "#gpu_optinos = tf.GPUOptions(per_process_gpu_memory_fraction=0.75)"
   ]
  },
  {
   "cell_type": "code",
   "execution_count": 24,
   "metadata": {
    "collapsed": true
   },
   "outputs": [],
   "source": [
    "saver = tf.train.Saver()"
   ]
  },
  {
   "cell_type": "code",
   "execution_count": 27,
   "metadata": {},
   "outputs": [
    {
     "name": "stdout",
     "output_type": "stream",
     "text": [
      "0 \tMSE: 0.279008\n",
      "100 \tMSE: 0.00875686\n",
      "200 \tMSE: 0.0168042\n",
      "300 \tMSE: 0.0379503\n",
      "400 \tMSE: 0.0222177\n",
      "500 \tMSE: 0.00215634\n",
      "600 \tMSE: 0.00281136\n",
      "700 \tMSE: 0.0143909\n",
      "800 \tMSE: 0.00111342\n",
      "900 \tMSE: 0.000807498\n",
      "1000 \tMSE: 0.0121946\n",
      "1100 \tMSE: 0.0088542\n",
      "1200 \tMSE: 0.000488632\n",
      "1300 \tMSE: 0.0183111\n",
      "1400 \tMSE: 0.00743367\n",
      "1500 \tMSE: 0.00470553\n",
      "1600 \tMSE: 0.00338224\n",
      "1700 \tMSE: 0.000305023\n",
      "1800 \tMSE: 0.015796\n",
      "1900 \tMSE: 0.00781735\n"
     ]
    }
   ],
   "source": [
    "#with tf.Session(config=tf.ConfigProto(gpu_options=gpu_options)) as sess:\n",
    "with tf.Session() as sess:\n",
    "    sess.run(init)\n",
    "    for i in range(epochs):\n",
    "        x_batch, y_batch = ts_data.next_batch(batch_size, num_time_steps)\n",
    "        sess.run(train, feed_dict= {\n",
    "            x: x_batch,\n",
    "            y: y_batch\n",
    "        })\n",
    "        \n",
    "        if i % 100 == 0:\n",
    "            mse = loss.eval(feed_dict={\n",
    "                x: x_batch,\n",
    "                y: y_batch\n",
    "            })\n",
    "            print(i, \"\\tMSE:\", mse)\n",
    "            \n",
    "    #save model\n",
    "    file_path = \"./rnn_time_series_model_codealong{}\".format(int(time.time()))\n",
    "    saver.save(sess=sess, save_path=file_path)"
   ]
  },
  {
   "cell_type": "markdown",
   "metadata": {},
   "source": [
    "## predict time series in future"
   ]
  },
  {
   "cell_type": "code",
   "execution_count": 32,
   "metadata": {},
   "outputs": [
    {
     "name": "stdout",
     "output_type": "stream",
     "text": [
      "INFO:tensorflow:Restoring parameters from ./rnn_time_series_model_codealong1529273671\n"
     ]
    }
   ],
   "source": [
    "#dont need to provide gpu config here for some reason\n",
    "with tf.Session() as sess:\n",
    "    saver.restore(sess=sess, save_path=file_path)\n",
    "    x_new = np.sin(np.array(train_inst[:-1].reshape(-1, num_time_steps, num_inputs)))\n",
    "    y_pred = sess.run(outputs, feed_dict={\n",
    "        x: x_new\n",
    "    })"
   ]
  },
  {
   "cell_type": "code",
   "execution_count": 43,
   "metadata": {},
   "outputs": [
    {
     "data": {
      "text/plain": [
       "array([-0.35109004, -0.8237763 , -0.95935702, -0.8723129 , -0.86598158,\n",
       "       -0.85007399, -0.8168577 , -0.79848343, -0.78956735, -0.74989659,\n",
       "       -0.72938085, -0.70307708, -0.67475885, -0.63378465, -0.61464489,\n",
       "       -0.56897628, -0.53522319, -0.49871433, -0.4689739 , -0.43594635,\n",
       "       -0.39913371, -0.35738456, -0.3146438 , -0.27309376, -0.2346293 ,\n",
       "       -0.19626383, -0.16248824, -0.12851238, -0.09381086, -0.05497166], dtype=float32)"
      ]
     },
     "execution_count": 43,
     "metadata": {},
     "output_type": "execute_result"
    }
   ],
   "source": [
    "y_pred[0,:,0]"
   ]
  },
  {
   "cell_type": "code",
   "execution_count": 42,
   "metadata": {},
   "outputs": [
    {
     "data": {
      "text/plain": [
       "array([-0.35109004, -0.8237763 , -0.95935702, -0.8723129 , -0.86598158,\n",
       "       -0.85007399, -0.8168577 , -0.79848343, -0.78956735, -0.74989659,\n",
       "       -0.72938085, -0.70307708, -0.67475885, -0.63378465, -0.61464489,\n",
       "       -0.56897628, -0.53522319, -0.49871433, -0.4689739 , -0.43594635,\n",
       "       -0.39913371, -0.35738456, -0.3146438 , -0.27309376, -0.2346293 ,\n",
       "       -0.19626383, -0.16248824, -0.12851238, -0.09381086, -0.05497166], dtype=float32)"
      ]
     },
     "execution_count": 42,
     "metadata": {},
     "output_type": "execute_result"
    }
   ],
   "source": [
    "y_pred.flatten()"
   ]
  },
  {
   "cell_type": "code",
   "execution_count": 45,
   "metadata": {},
   "outputs": [
    {
     "data": {
      "text/plain": [
       "<matplotlib.legend.Legend at 0x19c7f0db1d0>"
      ]
     },
     "execution_count": 45,
     "metadata": {},
     "output_type": "execute_result"
    },
    {
     "data": {
      "image/png": "[encoded data removed]",
      "text/plain": [
       "<matplotlib.figure.Figure at 0x19c7f066080>"
      ]
     },
     "metadata": {},
     "output_type": "display_data"
    }
   ],
   "source": [
    "plt.title(\"testing the model\")\n",
    "#training\n",
    "plt.plot(train_inst[:-1], np.sin(train_inst[:-1]), \"bo\", markersize=15, alpha=0.5, label=\"train\")\n",
    "#target\n",
    "plt.plot(train_inst[1:], np.sin(train_inst[1:]), \"ko\", markersize=10, label=\"target\")\n",
    "#prediction\n",
    "plt.plot(train_inst[1:], y_pred.flatten(), \"ro\", markersize=5, label=\"preds\")\n",
    "#axes\n",
    "plt.xlabel(\"time\")\n",
    "plt.ylabel(\"value\")\n",
    "plt.legend()"
   ]
  }
 ],
 "metadata": {
  "kernelspec": {
   "display_name": "Python 3",
   "language": "python",
   "name": "python3"
  },
  "language_info": {
   "codemirror_mode": {
    "name": "ipython",
    "version": 3
   },
   "file_extension": ".py",
   "mimetype": "text/x-python",
   "name": "python",
   "nbconvert_exporter": "python",
   "pygments_lexer": "ipython3",
   "version": "3.5.4"
  }
 },
 "nbformat": 4,
 "nbformat_minor": 2
}
