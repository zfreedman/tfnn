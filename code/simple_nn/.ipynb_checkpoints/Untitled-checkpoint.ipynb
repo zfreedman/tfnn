{
 "cells": [
  {
   "cell_type": "markdown",
   "metadata": {},
   "source": [
    "# tf review\n",
    "# imports"
   ]
  },
  {
   "cell_type": "code",
   "execution_count": 1,
   "metadata": {
    "collapsed": true
   },
   "outputs": [],
   "source": [
    "import numpy as np\n",
    "import tensorflow as tf"
   ]
  },
  {
   "cell_type": "code",
   "execution_count": 2,
   "metadata": {
    "collapsed": true
   },
   "outputs": [],
   "source": [
    "np.random.seed(101)\n",
    "tf.set_random_seed(101)"
   ]
  },
  {
   "cell_type": "markdown",
   "metadata": {},
   "source": [
    "# random data"
   ]
  },
  {
   "cell_type": "code",
   "execution_count": 3,
   "metadata": {},
   "outputs": [
    {
     "data": {
      "text/plain": [
       "array([[ 51.63986277,  57.06675869,   2.84742265,  17.15216562,\n",
       "         68.52769817],\n",
       "       [ 83.38968626,  30.69662197,  89.36130797,  72.15438618,\n",
       "         18.99389542],\n",
       "       [ 55.42275911,  35.2131954 ,  18.18924027,  78.56017619,\n",
       "         96.54832224],\n",
       "       [ 23.23536618,   8.35614337,  60.35484223,  72.89927573,\n",
       "         27.62388285],\n",
       "       [ 68.53063288,  51.78674742,   4.84845374,  13.78692376,\n",
       "         18.69674261]])"
      ]
     },
     "execution_count": 3,
     "metadata": {},
     "output_type": "execute_result"
    }
   ],
   "source": [
    "rand_a = np.random.uniform(0, 100, (5, 5))\n",
    "rand_a"
   ]
  },
  {
   "cell_type": "code",
   "execution_count": 4,
   "metadata": {},
   "outputs": [
    {
     "data": {
      "text/plain": [
       "array([[ 99.43179012],\n",
       "       [ 52.06653967],\n",
       "       [ 57.87895355],\n",
       "       [ 73.48190583],\n",
       "       [ 54.19617722]])"
      ]
     },
     "execution_count": 4,
     "metadata": {},
     "output_type": "execute_result"
    }
   ],
   "source": [
    "rand_b = np.random.uniform(0, 100, (5, 1))\n",
    "rand_b"
   ]
  },
  {
   "cell_type": "markdown",
   "metadata": {},
   "source": [
    "## creating placeholders for the data"
   ]
  },
  {
   "cell_type": "code",
   "execution_count": 5,
   "metadata": {
    "collapsed": true
   },
   "outputs": [],
   "source": [
    "ph_a = tf.placeholder(tf.float32)\n",
    "ph_b = tf.placeholder(tf.float32)"
   ]
  },
  {
   "cell_type": "markdown",
   "metadata": {},
   "source": [
    "# operations"
   ]
  },
  {
   "cell_type": "code",
   "execution_count": 10,
   "metadata": {
    "collapsed": true
   },
   "outputs": [],
   "source": [
    "add_op = ph_a + ph_b\n",
    "mult_op = ph_a * ph_b"
   ]
  },
  {
   "cell_type": "markdown",
   "metadata": {},
   "source": [
    "# sessions and graphs"
   ]
  },
  {
   "cell_type": "code",
   "execution_count": 11,
   "metadata": {},
   "outputs": [
    {
     "data": {
      "text/plain": [
       "array([[ 151.07165527,  156.49855042,  102.27921295,  116.58396149,\n",
       "         167.95948792],\n",
       "       [ 135.45622253,   82.76316071,  141.42784119,  124.22093201,\n",
       "          71.06043243],\n",
       "       [ 113.30171204,   93.09214783,   76.06819153,  136.43911743,\n",
       "         154.42727661],\n",
       "       [  96.7172699 ,   81.83804321,  133.83674622,  146.38117981,\n",
       "         101.10578918],\n",
       "       [ 122.72680664,  105.98292542,   59.04463196,   67.98310089,\n",
       "          72.89292145]], dtype=float32)"
      ]
     },
     "execution_count": 11,
     "metadata": {},
     "output_type": "execute_result"
    }
   ],
   "source": [
    "with tf.Session() as sess:\n",
    "    add_result = sess.run(add_op, feed_dict={\n",
    "        ph_a: rand_a,\n",
    "        ph_b: rand_b\n",
    "    })\n",
    "add_result"
   ]
  },
  {
   "cell_type": "code",
   "execution_count": 14,
   "metadata": {},
   "outputs": [
    {
     "data": {
      "text/plain": [
       "array([[ 5134.64404297,  5674.25      ,   283.12432861,  1705.47070312,\n",
       "         6813.83154297],\n",
       "       [ 4341.8125    ,  1598.26696777,  4652.73388672,  3756.8293457 ,\n",
       "          988.9463501 ],\n",
       "       [ 3207.8112793 ,  2038.10290527,  1052.77416992,  4546.98046875,\n",
       "         5588.11572266],\n",
       "       [ 1707.37902832,   614.02526855,  4434.98876953,  5356.77734375,\n",
       "         2029.85546875],\n",
       "       [ 3714.09838867,  2806.64379883,   262.76763916,   747.19854736,\n",
       "         1013.29199219]], dtype=float32)"
      ]
     },
     "execution_count": 14,
     "metadata": {},
     "output_type": "execute_result"
    }
   ],
   "source": [
    "with tf.Session() as sess:\n",
    "    mult_result = sess.run(mult_op, feed_dict={\n",
    "        ph_a: rand_a,\n",
    "        ph_b: rand_b\n",
    "    })\n",
    "mult_result"
   ]
  }
 ],
 "metadata": {
  "kernelspec": {
   "display_name": "Python 3",
   "language": "python",
   "name": "python3"
  },
  "language_info": {
   "codemirror_mode": {
    "name": "ipython",
    "version": 3
   },
   "file_extension": ".py",
   "mimetype": "text/x-python",
   "name": "python",
   "nbconvert_exporter": "python",
   "pygments_lexer": "ipython3",
   "version": "3.5.4"
  }
 },
 "nbformat": 4,
 "nbformat_minor": 2
}
